{
 "cells": [
  {
   "cell_type": "code",
   "execution_count": 1,
   "id": "f5316d67",
   "metadata": {},
   "outputs": [],
   "source": [
    "import psycopg2"
   ]
  },
  {
   "cell_type": "code",
   "execution_count": 2,
   "id": "bfa4912b",
   "metadata": {},
   "outputs": [],
   "source": [
    "my_conn = psycopg2.connect(\n",
    "    host=\"localhost\",\n",
    "    database=\"ds_new\",\n",
    "    user=\"postgres\",\n",
    "    password=\"modyfathikamal2005\"\n",
    ")"
   ]
  },
  {
   "cell_type": "code",
   "execution_count": 4,
   "id": "74030ec7",
   "metadata": {},
   "outputs": [],
   "source": [
    "cur = my_conn.cursor()\n"
   ]
  },
  {
   "cell_type": "code",
   "execution_count": 5,
   "id": "d6d21aa5",
   "metadata": {},
   "outputs": [
    {
     "name": "stdout",
     "output_type": "stream",
     "text": [
      "postgres\n"
     ]
    }
   ],
   "source": [
    "cur.execute('SELECT current_user')\n",
    "print(cur.fetchone()[0])"
   ]
  },
  {
   "cell_type": "code",
   "execution_count": 3,
   "id": "077d83a6",
   "metadata": {},
   "outputs": [
    {
     "ename": "DuplicateDatabase",
     "evalue": "database \"ds_new\" already exists\n",
     "output_type": "error",
     "traceback": [
      "\u001b[31m---------------------------------------------------------------------------\u001b[39m",
      "\u001b[31mDuplicateDatabase\u001b[39m                         Traceback (most recent call last)",
      "\u001b[36mCell\u001b[39m\u001b[36m \u001b[39m\u001b[32mIn[3]\u001b[39m\u001b[32m, line 3\u001b[39m\n\u001b[32m      1\u001b[39m my_conn.autocommit = \u001b[38;5;28;01mTrue\u001b[39;00m\n\u001b[32m      2\u001b[39m cur = my_conn.cursor()\n\u001b[32m----> \u001b[39m\u001b[32m3\u001b[39m \u001b[43mcur\u001b[49m\u001b[43m.\u001b[49m\u001b[43mexecute\u001b[49m\u001b[43m(\u001b[49m\u001b[33;43m'\u001b[39;49m\u001b[33;43mCREATE DATABASE DS_NEW\u001b[39;49m\u001b[33;43m'\u001b[39;49m\u001b[43m)\u001b[49m\n",
      "\u001b[31mDuplicateDatabase\u001b[39m: database \"ds_new\" already exists\n"
     ]
    }
   ],
   "source": [
    "my_conn.autocommit = True\n",
    "cur = my_conn.cursor()\n",
    "cur.execute('CREATE DATABASE DS_NEW')"
   ]
  },
  {
   "cell_type": "code",
   "execution_count": 4,
   "id": "73d1acc8",
   "metadata": {},
   "outputs": [
    {
     "name": "stdout",
     "output_type": "stream",
     "text": [
      "postgres\n",
      "DEPI\n",
      "education_db\n",
      "ds_new\n"
     ]
    }
   ],
   "source": [
    "cur.execute(\"SELECT datname from PG_database where datistemplate = false\")\n",
    "for db in cur.fetchall():\n",
    "    print(db[0])"
   ]
  },
  {
   "cell_type": "code",
   "execution_count": null,
   "id": "b4a92114",
   "metadata": {},
   "outputs": [
    {
     "name": "stdout",
     "output_type": "stream",
     "text": [
      "Table created successfully\n"
     ]
    }
   ],
   "source": [
    "cur.execute(\"CREATE TABLE students (name VARCHAR(50) , phone VARCHAR(20))\")\n",
    "print(\"Table created successfully\")\n"
   ]
  }
 ],
 "metadata": {
  "kernelspec": {
   "display_name": "env",
   "language": "python",
   "name": "python3"
  },
  "language_info": {
   "codemirror_mode": {
    "name": "ipython",
    "version": 3
   },
   "file_extension": ".py",
   "mimetype": "text/x-python",
   "name": "python",
   "nbconvert_exporter": "python",
   "pygments_lexer": "ipython3",
   "version": "3.12.9"
  }
 },
 "nbformat": 4,
 "nbformat_minor": 5
}
