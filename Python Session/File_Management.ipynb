{
 "cells": [
  {
   "cell_type": "code",
   "execution_count": 19,
   "id": "8e48e268",
   "metadata": {},
   "outputs": [],
   "source": [
    "# function to open or create a folder\n",
    "# This function checks if a folder exists by the given name, and if not, it creates\n",
    "def open_or_create_folder(folder_name):\n",
    "    \"\"\"\n",
    "    Open or create a folder by the given name.\n",
    "\n",
    "    :param folder_name: Name of the folder to open or create.\n",
    "    :type folder_name: str\n",
    "\n",
    "    :return: The path to the created or opened folder.\n",
    "    :rtype: str\n",
    "    \"\"\"\n",
    "    import os # Importing os module to interact with the operating system\n",
    "\n",
    "    if not os.path.exists(folder_name): # Check if the folder does not exist\n",
    "        # If the folder does not exist, create it\n",
    "        os.makedirs(folder_name)\n",
    "    return folder_name # Return the path to the folder\n"
   ]
  },
  {
   "cell_type": "code",
   "execution_count": null,
   "id": "ecd956b8",
   "metadata": {},
   "outputs": [
    {
     "name": "stdout",
     "output_type": "stream",
     "text": [
      "Folder 'my_test_folder' is ready for use.\n",
      "Folder path is: my_test_folder\n"
     ]
    }
   ],
   "source": [
    "folder_path = open_or_create_folder(\"my_test_folder\") # Call the function to open or create the folder\n",
    "print(f\"Folder '{folder_path}' is ready for use.\") # Print confirmation message\n",
    "print(\"Folder path is:\", folder_path) # Print the path of the folder"
   ]
  },
  {
   "cell_type": "code",
   "execution_count": 22,
   "id": "06b4fb96",
   "metadata": {},
   "outputs": [],
   "source": [
    "# function to create a number of empty text files inside a folder\n",
    "# This function creates a specified number of empty text files in the given folder\n",
    "def create_files_in_folder(folder_name, number_of_files):\n",
    "    \"\"\"\n",
    "    Create a number of empty text files inside the given folder.\n",
    "\n",
    "    :param folder_name: The name of the folder where files will be created.\n",
    "    :type folder_name: str\n",
    "\n",
    "    :param number_of_files: How many files to create.\n",
    "    :type number_of_files: int\n",
    "\n",
    "    :return: A list of the created file names.\n",
    "    :rtype: list\n",
    "    \"\"\"\n",
    "    import os # Importing os module to interact with the operating system\n",
    "\n",
    "    created_files = [] # List to store names of created files\n",
    "    for i in range(1, number_of_files + 1): # Loop through the range to create files\n",
    "        # Create a file name based on the index\n",
    "        file_name = f\"file_{i}.txt\"\n",
    "        file_path = os.path.join(folder_name, file_name) # Construct the full file path\n",
    "        with open(file_path, 'w') as f: # Open the file in write mode\n",
    "            f.write(f\"This is file number {i}\") # Write a simple message to the file\n",
    "        created_files.append(file_name) # Append the created file name to the list\n",
    "    \n",
    "    return created_files # Return the list of created file names\n"
   ]
  },
  {
   "cell_type": "code",
   "execution_count": null,
   "id": "f840e368",
   "metadata": {},
   "outputs": [
    {
     "name": "stdout",
     "output_type": "stream",
     "text": [
      "Created files: ['file_1.txt', 'file_2.txt', 'file_3.txt', 'file_4.txt', 'file_5.txt', 'file_6.txt', 'file_7.txt', 'file_8.txt', 'file_9.txt', 'file_10.txt']\n"
     ]
    }
   ],
   "source": [
    "created = create_files_in_folder(folder_path, 10) # Call the function to create 10 files in the specified folder\n",
    "print(f\"Created files: {created}\") # Print the list of created files"
   ]
  },
  {
   "cell_type": "code",
   "execution_count": 24,
   "id": "1088788b",
   "metadata": {},
   "outputs": [],
   "source": [
    "# function to count how many files are currently in the given folder\n",
    "# This function counts the number of files in a specified folder\n",
    "def count_files_in_folder(folder_name):\n",
    "    \"\"\"\n",
    "    Count how many files are currently in the given folder.\n",
    "\n",
    "    :param folder_name: The name of the folder to check.\n",
    "    :type folder_name: str\n",
    "\n",
    "    :return: The number of files in the folder.\n",
    "    :rtype: int\n",
    "    \"\"\"\n",
    "    import os # Importing os module to interact with the operating system\n",
    "\n",
    "    # List all files in the folder and filter out directories\n",
    "    # os.listdir returns a list of all entries in the directory\n",
    "    files = [f for f in os.listdir(folder_name) if os.path.isfile(os.path.join(folder_name, f))]\n",
    "    return len(files) # Return the count of files\n"
   ]
  },
  {
   "cell_type": "code",
   "execution_count": null,
   "id": "8f8810f3",
   "metadata": {},
   "outputs": [
    {
     "name": "stdout",
     "output_type": "stream",
     "text": [
      "There are 10 files in the folder 'my_test_folder'.\n"
     ]
    }
   ],
   "source": [
    "num_files = count_files_in_folder(folder_path) # Call the function to count files in the specified folder\n",
    "print(f\"There are {num_files} files in the folder '{folder_path}'.\") # Print the number of files found"
   ]
  },
  {
   "cell_type": "code",
   "execution_count": 26,
   "id": "a03a39d6",
   "metadata": {},
   "outputs": [],
   "source": [
    "# function to delete random half of the files inside the folder\n",
    "# This function deletes a random half of the files in the specified folder\n",
    "def delete_random_half(folder_name):\n",
    "    \"\"\"\n",
    "    Delete random half of the files inside the folder.\n",
    "\n",
    "    :param folder_name: The name of the folder to clean up.\n",
    "    :type folder_name: str\n",
    "\n",
    "    :return: A list of deleted file names.\n",
    "    :rtype: list\n",
    "    \"\"\"\n",
    "    import os # Importing os module to interact with the operating system\n",
    "    import random # Importing random module to select files randomly\n",
    "\n",
    "    # List all files in the folder and filter out directories\n",
    "    # os.listdir returns a list of all entries in the directory\n",
    "    files = [f for f in os.listdir(folder_name) if os.path.isfile(os.path.join(folder_name, f))]\n",
    "\n",
    "    # Check if there are no files to delete\n",
    "    half = len(files) // 2\n",
    "\n",
    "    # If there are no files, return an empty list\n",
    "    to_delete = random.sample(files, half)\n",
    "\n",
    "   # Delete the selected files\n",
    "    for f in to_delete: # Construct the full file path\n",
    "        os.remove(os.path.join(folder_name, f)) # Remove the file from the folder\n",
    "\n",
    "    return to_delete # Return the list of deleted file names\n"
   ]
  },
  {
   "cell_type": "code",
   "execution_count": 27,
   "id": "cd9f868b",
   "metadata": {},
   "outputs": [
    {
     "name": "stdout",
     "output_type": "stream",
     "text": [
      "Deleted files: ['file_1.txt', 'file_3.txt', 'file_5.txt', 'file_4.txt', 'file_10.txt']\n"
     ]
    }
   ],
   "source": [
    "deleted_files = delete_random_half(folder_path) # Call the function to delete random half of the files in the specified folder\n",
    "print(f\"Deleted files: {deleted_files}\") # Print the list of deleted files"
   ]
  },
  {
   "cell_type": "code",
   "execution_count": 28,
   "id": "b185be21",
   "metadata": {},
   "outputs": [],
   "source": [
    "# function to check how many files remain in the folder\n",
    "# This function checks how many files remain in the specified folder\n",
    "def check_remaining_files(folder_name):\n",
    "    \"\"\"\n",
    "    Check how many files remain in the folder.\n",
    "\n",
    "    :param folder_name: The name of the folder.\n",
    "    :type folder_name: str\n",
    "\n",
    "    :return: The number of remaining files.\n",
    "    :rtype: int\n",
    "    \"\"\"\n",
    "    import os # Importing os module to interact with the operating system\n",
    "# List all files in the folder and filter out directories\n",
    "    # os.listdir returns a list of all entries in the directory\n",
    "    files = [f for f in os.listdir(folder_name) if os.path.isfile(os.path.join(folder_name, f))]\n",
    "    return len(files) # Return the count of files\n"
   ]
  },
  {
   "cell_type": "code",
   "execution_count": 29,
   "id": "a52c2586",
   "metadata": {},
   "outputs": [
    {
     "name": "stdout",
     "output_type": "stream",
     "text": [
      "There are 5 files remaining in the folder 'my_test_folder'.\n"
     ]
    }
   ],
   "source": [
    "remaining = check_remaining_files(folder_path) # Call the function to check remaining files in the specified folder\n",
    "print(f\"There are {remaining} files remaining in the folder '{folder_path}'.\") # Print the number of remaining files"
   ]
  }
 ],
 "metadata": {
  "kernelspec": {
   "display_name": "Python 3",
   "language": "python",
   "name": "python3"
  },
  "language_info": {
   "codemirror_mode": {
    "name": "ipython",
    "version": 3
   },
   "file_extension": ".py",
   "mimetype": "text/x-python",
   "name": "python",
   "nbconvert_exporter": "python",
   "pygments_lexer": "ipython3",
   "version": "3.12.9"
  }
 },
 "nbformat": 4,
 "nbformat_minor": 5
}
