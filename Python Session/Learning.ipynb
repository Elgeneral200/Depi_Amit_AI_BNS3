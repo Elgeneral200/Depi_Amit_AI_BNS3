{
 "cells": [
  {
   "cell_type": "code",
   "execution_count": null,
   "id": "12fa353f",
   "metadata": {},
   "outputs": [
    {
     "name": "stdout",
     "output_type": "stream",
     "text": [
      "Invalid degree entered. Please enter a value between 0 and 100.\n"
     ]
    }
   ],
   "source": [
    "student_degree = int(input(\"Enter the student degree: \"))\n",
    "\n",
    "if 0 <= student_degree <= 100:\n",
    "    if 90 <= student_degree <= 100:\n",
    "        grade = 'A'\n",
    "    elif 80 <= student_degree < 90:\n",
    "        grade = 'B'\n",
    "    elif 70 <= student_degree < 80:\n",
    "        grade = 'C'\n",
    "    elif 60 <= student_degree < 70:\n",
    "        grade = 'D'\n",
    "    else:\n",
    "        grade = 'F'\n",
    "    print(\"The student's grade is:\", grade)\n",
    "else:\n",
    "    print(\"Invalid degree , Please enter a degree between 0 and 100.\")"
   ]
  },
  {
   "cell_type": "code",
   "execution_count": null,
   "id": "d62bed66",
   "metadata": {},
   "outputs": [],
   "source": [
    "def info_student(name, age):\n",
    "    \"\"\"\n",
    "    this function takes two inputs from the user and prints them\n",
    "    :param name: Name of the student\n",
    "    type name: str\n",
    "    param age: Age of the student\n",
    "    type age: int\n",
    "    return: return name and age of the student\n",
    "    typre: str, int\n",
    "    \"\"\"\n",
    "    print(f\"My name is {name} and my age is {age}\")"
   ]
  },
  {
   "cell_type": "code",
   "execution_count": 15,
   "id": "d642c2ec",
   "metadata": {},
   "outputs": [
    {
     "name": "stdout",
     "output_type": "stream",
     "text": [
      "My name is Mohamed and I am 20 years old.\n"
     ]
    }
   ],
   "source": [
    "info_student(\"Mohamed\", 20)"
   ]
  },
  {
   "cell_type": "code",
   "execution_count": 25,
   "id": "21a11e3f",
   "metadata": {},
   "outputs": [
    {
     "name": "stdout",
     "output_type": "stream",
     "text": [
      "Enter you first Number:\n",
      "Enter you second Number:\n",
      "You can't divide by zero, please enter a valid number.\n"
     ]
    }
   ],
   "source": [
    "try : \n",
    "    print(f\"Enter you first Number:\")\n",
    "    first_number = int(input())\n",
    "    print(f\"Enter you second Number:\")\n",
    "    second_number = int(input())\n",
    "    print(f\"The Division of {first_number} and {second_number} is {first_number / second_number}\")\n",
    "except ZeroDivisionError:\n",
    "    print(\"You can't divide by zero, please enter a valid number.\")"
   ]
  },
  {
   "cell_type": "code",
   "execution_count": 36,
   "id": "2b26f26f",
   "metadata": {},
   "outputs": [
    {
     "name": "stdout",
     "output_type": "stream",
     "text": [
      "Your random number is: 63\n",
      "Your degree is: 6.300000000000001%\n"
     ]
    }
   ],
   "source": [
    "import random\n",
    "random_number = random.randint(1, 100)\n",
    "def calc_degree(degree):\n",
    "    return degree * 0.1\n",
    "    \n",
    "calc_degree(random_number)\n",
    "print(f\"Your random number is: {random_number}\")\n",
    "print(f\"Your degree is: {calc_degree(random_number)}%\")\n"
   ]
  },
  {
   "cell_type": "code",
   "execution_count": null,
   "id": "ee70e459",
   "metadata": {},
   "outputs": [],
   "source": [
    "import random\n",
    "def generate_password(length):\n",
    "    characters = \"abcdefghijklmnopqrstuvwxyzABCDEFGHIJKLMNOPQRSTUVWXYZ0123456789!@#$%^&*()\"\n",
    "    password = \"\"\n",
    "    for _ in range(length):\n",
    "        password += random.choice(characters)\n",
    "    return password\n"
   ]
  },
  {
   "cell_type": "code",
   "execution_count": null,
   "id": "fa9740c4",
   "metadata": {},
   "outputs": [
    {
     "name": "stdout",
     "output_type": "stream",
     "text": [
      "Your generated password is: lgrcfrR0anTw\n"
     ]
    }
   ],
   "source": [
    "\n",
    "print(f\"Your generated password is: {generate_password(12)}\")"
   ]
  }
 ],
 "metadata": {
  "kernelspec": {
   "display_name": "env",
   "language": "python",
   "name": "python3"
  },
  "language_info": {
   "codemirror_mode": {
    "name": "ipython",
    "version": 3
   },
   "file_extension": ".py",
   "mimetype": "text/x-python",
   "name": "python",
   "nbconvert_exporter": "python",
   "pygments_lexer": "ipython3",
   "version": "3.12.9"
  }
 },
 "nbformat": 4,
 "nbformat_minor": 5
}
