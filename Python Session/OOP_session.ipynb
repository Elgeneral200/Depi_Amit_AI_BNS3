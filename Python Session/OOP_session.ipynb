{
 "cells": [
  {
   "cell_type": "code",
   "execution_count": null,
   "id": "afa8e616",
   "metadata": {},
   "outputs": [],
   "source": [
    "# Small Chatbot Test\n",
    "import random\n",
    "def get_response(user_input):\n",
    "    for key in responses:\n",
    "        if key in user_input:\n",
    "            return random.choice(responses[key])\n",
    "    return random.choice(responses[\"default\"])\n",
    "def chatbot():\n",
    "    print(\"Chatbot: Hi how can i assist you today?\")\n",
    "    while True:\n",
    "        user_input = input(\"User: \").lower()\n",
    "        response = get_response(user_input)\n",
    "        print(\"Chatbot: \",response)\n",
    "        \n",
    "        if user_input == \"goodbye\":\n",
    "            break"
   ]
  },
  {
   "cell_type": "code",
   "execution_count": null,
   "id": "599a2685",
   "metadata": {},
   "outputs": [
    {
     "name": "stdout",
     "output_type": "stream",
     "text": [
      "Chatbot: Hi how can i assist you today?\n",
      "Chatbot:  Hello!\n",
      "Chatbot:  Hello!\n",
      "Chatbot:  Greetings!\n",
      "Chatbot:  I'm sorry, I didn't understand.\n",
      "Chatbot:  Could you please rephrase that?\n",
      "Chatbot:  Hello!\n",
      "Chatbot:  I'm doing well, thank you!\n",
      "Chatbot:  Could you please rephrase that?\n",
      "Chatbot:  I'm sorry, I didn't understand.\n",
      "Chatbot:  I'm sorry, I didn't understand.\n"
     ]
    }
   ],
   "source": [
    "from http.client import responses\n",
    "import random\n",
    "with open(\"\",\"r\") as file:\n",
    "    responses = "
   ]
  }
 ],
 "metadata": {
  "kernelspec": {
   "display_name": "Python 3",
   "language": "python",
   "name": "python3"
  },
  "language_info": {
   "codemirror_mode": {
    "name": "ipython",
    "version": 3
   },
   "file_extension": ".py",
   "mimetype": "text/x-python",
   "name": "python",
   "nbconvert_exporter": "python",
   "pygments_lexer": "ipython3",
   "version": "3.12.9"
  }
 },
 "nbformat": 4,
 "nbformat_minor": 5
}
