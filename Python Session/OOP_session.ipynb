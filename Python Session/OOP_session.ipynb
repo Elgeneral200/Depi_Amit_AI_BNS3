{
 "cells": [
  {
   "cell_type": "code",
   "execution_count": 1,
   "id": "15c5f4d0",
   "metadata": {},
   "outputs": [
    {
     "name": "stdout",
     "output_type": "stream",
     "text": [
      "Hello MR Muhammad Fathi Kamal\n",
      "Your age now is: 20\n"
     ]
    }
   ],
   "source": [
    "def get_user_name():\n",
    "    \"\"\"Prompt user for personal details and print a greeting with age.\"\"\"\n",
    "    \n",
    "    # Use a dictionary to map gender inputs to titles\n",
    "    gender_titles = {\n",
    "        \"Male\": \"MR\",\n",
    "        \"Female\": \"MS\"\n",
    "    }\n",
    "    \n",
    "    # Get user input\n",
    "    f_name = input(\"What is your first name? \")\n",
    "    m_name = input(\"What is your middle name? \")\n",
    "    l_name = input(\"What is your last name? \")\n",
    "    user_gender = input(\"Please enter your gender (Male/Female): \")\n",
    "    year_of_birth = int(input(\"Enter your year of birth: \"))\n",
    "    current_year = int(input(\"Enter the current year: \"))\n",
    "    \n",
    "    # Calculate age\n",
    "    age = current_year - year_of_birth\n",
    "    \n",
    "    # Get gender title from dictionary, default to \"Unknown\"\n",
    "    user_gender_title = gender_titles.get(user_gender, \"Unknown\")\n",
    "    \n",
    "    # Print greeting and age\n",
    "    print(f\"Hello {user_gender_title} {f_name} {m_name} {l_name}\")\n",
    "    print(f\"Your age now is: {age}\")\n",
    "\n",
    "\n",
    "get_user_name()"
   ]
  }
 ],
 "metadata": {
  "kernelspec": {
   "display_name": "env",
   "language": "python",
   "name": "python3"
  },
  "language_info": {
   "codemirror_mode": {
    "name": "ipython",
    "version": 3
   },
   "file_extension": ".py",
   "mimetype": "text/x-python",
   "name": "python",
   "nbconvert_exporter": "python",
   "pygments_lexer": "ipython3",
   "version": "3.12.9"
  }
 },
 "nbformat": 4,
 "nbformat_minor": 5
}
