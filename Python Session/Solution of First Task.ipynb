{
 "cells": [
  {
   "cell_type": "code",
   "execution_count": 1,
   "id": "32b4f434",
   "metadata": {
    "vscode": {
     "languageId": "ruby"
    }
   },
   "outputs": [
    {
     "name": "stdout",
     "output_type": "stream",
     "text": [
      "Core message after cutting: \"mocleW EPGTQ\"\n",
      "Split words: ['mocleW', 'EPGTQ']\n",
      "Reversed first word: \"Welcome\"\n",
      "Second word after removing first character: \"PGTQ\"\n",
      "Final decoded message: \"Welcome PGTQ\"\n"
     ]
    }
   ],
   "source": [
    "encoded_message = \"###!!@mocleW EPGTQ!!!6789\"\n",
    "# first, remove the unwanted starting and ending characters\n",
    "core_message = encoded_message[6:-7]  \n",
    "print(f'Core message after cutting: \"{core_message}\"')\n",
    "# second, split the message into two words\n",
    "wanted_words = core_message.split()  \n",
    "print(f'Split words: {wanted_words}')\n",
    "# third, reverse the first word and remove the first character of the second word\n",
    "first_word = wanted_words[0][::-1] + \"e\"     \n",
    "second_word = wanted_words[1][1:]\n",
    "print(f'Reversed first word: \"{first_word}\"')\n",
    "print(f'Second word after removing first character: \"{second_word}\"')         \n",
    "# fourth, concatenate the two words\n",
    "decoded_message = first_word + \" \" + second_word\n",
    "print(f'Final decoded message: \"{decoded_message}\"')\n"
   ]
  }
 ],
 "metadata": {
  "kernelspec": {
   "display_name": "Python 3",
   "language": "python",
   "name": "python3"
  },
  "language_info": {
   "codemirror_mode": {
    "name": "ipython",
    "version": 3
   },
   "file_extension": ".py",
   "mimetype": "text/x-python",
   "name": "python",
   "nbconvert_exporter": "python",
   "pygments_lexer": "ipython3",
   "version": "3.12.9"
  }
 },
 "nbformat": 4,
 "nbformat_minor": 5
}
