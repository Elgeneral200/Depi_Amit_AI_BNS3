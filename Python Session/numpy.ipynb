{
 "cells": [
  {
   "cell_type": "code",
   "execution_count": 1,
   "id": "30d01160",
   "metadata": {},
   "outputs": [],
   "source": [
    "import numpy as np"
   ]
  },
  {
   "cell_type": "code",
   "execution_count": 6,
   "id": "67637f71",
   "metadata": {},
   "outputs": [
    {
     "name": "stdout",
     "output_type": "stream",
     "text": [
      "=========\n",
      "1\n",
      "(1,)\n",
      "=========\n",
      "1\n",
      "(3,)\n",
      "=========\n",
      "2\n",
      "(3, 3)\n"
     ]
    }
   ],
   "source": [
    "s = np.array([5])\n",
    "print(\"=========\")\n",
    "print(s.ndim)\n",
    "print(s.shape)\n",
    "v = np.array([1, 2, 3])\n",
    "print(\"=========\")\n",
    "print(v.ndim)\n",
    "print(v.shape)\n",
    "m = np.array(\n",
    "    [\n",
    "        [1, 2, 3],\n",
    "        [4, 5, 6],\n",
    "        [7, 8, 9]\n",
    "    ]\n",
    ")\n",
    "print(\"=========\")\n",
    "print(m.ndim)\n",
    "print(m.shape)\n"
   ]
  },
  {
   "cell_type": "code",
   "execution_count": 8,
   "id": "1eee42ef",
   "metadata": {},
   "outputs": [
    {
     "name": "stdout",
     "output_type": "stream",
     "text": [
      "[1 2 3 4 5 6]\n",
      "[[1 2]\n",
      " [3 4]\n",
      " [5 6]]\n"
     ]
    }
   ],
   "source": [
    "vec_1 = np.array([1, 2, 3, 4, 5, 6])\n",
    "mat_1 = vec_1.reshape(3, 2)\n",
    "print(vec_1)\n",
    "print(mat_1)"
   ]
  },
  {
   "cell_type": "code",
   "execution_count": 10,
   "id": "9bd06a59",
   "metadata": {},
   "outputs": [
    {
     "name": "stdout",
     "output_type": "stream",
     "text": [
      "[1 2 3 4 5 6]\n",
      "[[1]\n",
      " [2]\n",
      " [3]\n",
      " [4]\n",
      " [5]\n",
      " [6]]\n"
     ]
    }
   ],
   "source": [
    "vec_2 = np.array([1, 2, 3, 4, 5, 6])\n",
    "mat_2 = vec_2.reshape(vec_2.shape[0], 1)\n",
    "print(vec_2)\n",
    "print(mat_2)"
   ]
  },
  {
   "cell_type": "code",
   "execution_count": 13,
   "id": "a879f53d",
   "metadata": {},
   "outputs": [
    {
     "data": {
      "text/plain": [
       "array([[1],\n",
       "       [2],\n",
       "       [3],\n",
       "       [4],\n",
       "       [5],\n",
       "       [6]])"
      ]
     },
     "execution_count": 13,
     "metadata": {},
     "output_type": "execute_result"
    }
   ],
   "source": [
    "vec_2[:, None]"
   ]
  },
  {
   "cell_type": "code",
   "execution_count": 22,
   "id": "e5d3fff5",
   "metadata": {},
   "outputs": [],
   "source": [
    "class c:\n",
    "    x=3\n",
    "o1 = c()"
   ]
  },
  {
   "cell_type": "code",
   "execution_count": 25,
   "id": "b8a24afa",
   "metadata": {},
   "outputs": [
    {
     "name": "stdout",
     "output_type": "stream",
     "text": [
      "[['False' 'True' 'Ali']\n",
      " ['4' '5' '6']\n",
      " ['7' '8' '9']]\n",
      "<U21\n"
     ]
    }
   ],
   "source": [
    "mat = np.array(\n",
    "    [\n",
    "        [False, True, \"Ali\"],\n",
    "        [4, 5, 6],\n",
    "        [7, 8, 9]\n",
    "    ]\n",
    ")\n",
    "print(mat)\n",
    "print(mat.dtype)"
   ]
  },
  {
   "cell_type": "code",
   "execution_count": null,
   "id": "de40d3bb",
   "metadata": {},
   "outputs": [],
   "source": [
    "# priority \n",
    "object , str , float , int , bool"
   ]
  }
 ],
 "metadata": {
  "kernelspec": {
   "display_name": "env",
   "language": "python",
   "name": "python3"
  },
  "language_info": {
   "codemirror_mode": {
    "name": "ipython",
    "version": 3
   },
   "file_extension": ".py",
   "mimetype": "text/x-python",
   "name": "python",
   "nbconvert_exporter": "python",
   "pygments_lexer": "ipython3",
   "version": "3.12.9"
  }
 },
 "nbformat": 4,
 "nbformat_minor": 5
}
