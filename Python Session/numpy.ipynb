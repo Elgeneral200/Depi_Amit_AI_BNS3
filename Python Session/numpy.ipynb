{
 "cells": [
  {
   "cell_type": "code",
   "execution_count": 1,
   "id": "30d01160",
   "metadata": {},
   "outputs": [],
   "source": [
    "import numpy as np"
   ]
  },
  {
   "cell_type": "code",
   "execution_count": 6,
   "id": "67637f71",
   "metadata": {},
   "outputs": [
    {
     "name": "stdout",
     "output_type": "stream",
     "text": [
      "=========\n",
      "1\n",
      "(1,)\n",
      "=========\n",
      "1\n",
      "(3,)\n",
      "=========\n",
      "2\n",
      "(3, 3)\n"
     ]
    }
   ],
   "source": [
    "s = np.array([5])\n",
    "print(\"=========\")\n",
    "print(s.ndim)\n",
    "print(s.shape)\n",
    "v = np.array([1, 2, 3])\n",
    "print(\"=========\")\n",
    "print(v.ndim)\n",
    "print(v.shape)\n",
    "m = np.array(\n",
    "    [\n",
    "        [1, 2, 3],\n",
    "        [4, 5, 6],\n",
    "        [7, 8, 9]\n",
    "    ]\n",
    ")\n",
    "print(\"=========\")\n",
    "print(m.ndim)\n",
    "print(m.shape)\n"
   ]
  },
  {
   "cell_type": "code",
   "execution_count": 8,
   "id": "1eee42ef",
   "metadata": {},
   "outputs": [
    {
     "name": "stdout",
     "output_type": "stream",
     "text": [
      "[1 2 3 4 5 6]\n",
      "[[1 2]\n",
      " [3 4]\n",
      " [5 6]]\n"
     ]
    }
   ],
   "source": [
    "vec_1 = np.array([1, 2, 3, 4, 5, 6])\n",
    "mat_1 = vec_1.reshape(3, 2)\n",
    "print(vec_1)\n",
    "print(mat_1)"
   ]
  },
  {
   "cell_type": "code",
   "execution_count": 10,
   "id": "9bd06a59",
   "metadata": {},
   "outputs": [
    {
     "name": "stdout",
     "output_type": "stream",
     "text": [
      "[1 2 3 4 5 6]\n",
      "[[1]\n",
      " [2]\n",
      " [3]\n",
      " [4]\n",
      " [5]\n",
      " [6]]\n"
     ]
    }
   ],
   "source": [
    "vec_2 = np.array([1, 2, 3, 4, 5, 6])\n",
    "mat_2 = vec_2.reshape(vec_2.shape[0], 1)\n",
    "print(vec_2)\n",
    "print(mat_2)"
   ]
  },
  {
   "cell_type": "code",
   "execution_count": 13,
   "id": "a879f53d",
   "metadata": {},
   "outputs": [
    {
     "data": {
      "text/plain": [
       "array([[1],\n",
       "       [2],\n",
       "       [3],\n",
       "       [4],\n",
       "       [5],\n",
       "       [6]])"
      ]
     },
     "execution_count": 13,
     "metadata": {},
     "output_type": "execute_result"
    }
   ],
   "source": [
    "vec_2[:, None]"
   ]
  },
  {
   "cell_type": "code",
   "execution_count": 22,
   "id": "e5d3fff5",
   "metadata": {},
   "outputs": [],
   "source": [
    "class c:\n",
    "    x=3\n",
    "o1 = c()"
   ]
  },
  {
   "cell_type": "code",
   "execution_count": 25,
   "id": "b8a24afa",
   "metadata": {},
   "outputs": [
    {
     "name": "stdout",
     "output_type": "stream",
     "text": [
      "[['False' 'True' 'Ali']\n",
      " ['4' '5' '6']\n",
      " ['7' '8' '9']]\n",
      "<U21\n"
     ]
    }
   ],
   "source": [
    "mat = np.array(\n",
    "    [\n",
    "        [False, True, \"Ali\"],\n",
    "        [4, 5, 6],\n",
    "        [7, 8, 9]\n",
    "    ]\n",
    ")\n",
    "print(mat)\n",
    "print(mat.dtype)"
   ]
  },
  {
   "cell_type": "code",
   "execution_count": null,
   "id": "de40d3bb",
   "metadata": {},
   "outputs": [],
   "source": [
    "# priority \n",
    "object , str , float , int , bool"
   ]
  },
  {
   "cell_type": "code",
   "execution_count": 1,
   "id": "6c3d4722",
   "metadata": {},
   "outputs": [],
   "source": [
    "import numpy as np"
   ]
  },
  {
   "cell_type": "code",
   "execution_count": 2,
   "id": "4f23df0b",
   "metadata": {},
   "outputs": [],
   "source": [
    "mat_1 = np.ones((3, 4))\n",
    "mat_2 = np.zeros((5, 3))"
   ]
  },
  {
   "cell_type": "code",
   "execution_count": 5,
   "id": "cd0c0f7a",
   "metadata": {},
   "outputs": [],
   "source": [
    "np.savez('test.npz', ones_mat=mat_1, zeros_mat=mat_2)"
   ]
  },
  {
   "cell_type": "code",
   "execution_count": 7,
   "id": "daf6c57c",
   "metadata": {},
   "outputs": [
    {
     "name": "stdout",
     "output_type": "stream",
     "text": [
      "[[1. 1. 1. 1.]\n",
      " [1. 1. 1. 1.]\n",
      " [1. 1. 1. 1.]]\n",
      "[[0. 0. 0.]\n",
      " [0. 0. 0.]\n",
      " [0. 0. 0.]\n",
      " [0. 0. 0.]\n",
      " [0. 0. 0.]]\n"
     ]
    }
   ],
   "source": [
    "with np.load('test.npz') as data:\n",
    "    ones_mat = data['ones_mat']\n",
    "    zeros_mat = data['zeros_mat']\n",
    "print(ones_mat)\n",
    "print(zeros_mat)"
   ]
  },
  {
   "cell_type": "code",
   "execution_count": null,
   "id": "5171883d",
   "metadata": {},
   "outputs": [
    {
     "name": "stdout",
     "output_type": "stream",
     "text": [
      "[[ 1  2  3  7  8  9]\n",
      " [ 4  5  6 10 11 12]]\n"
     ]
    }
   ],
   "source": [
    "m1= np.array([[1,2,3],    # بتضم الماتركس مع بعض\n",
    "              [4,5,6]]\n",
    "            )\n",
    "m2 = np.array([[7,8,9],\n",
    "              [10,11,12]]\n",
    "            )\n",
    "vertical_mat = np.hstack((m1, m2))\n",
    "print(vertical_mat)"
   ]
  },
  {
   "cell_type": "code",
   "execution_count": 13,
   "id": "ddaece9f",
   "metadata": {},
   "outputs": [
    {
     "data": {
      "text/plain": [
       "array([False,  True, False])"
      ]
     },
     "execution_count": 13,
     "metadata": {},
     "output_type": "execute_result"
    }
   ],
   "source": [
    "# to compare\n",
    "s = 2\n",
    "v = np.array([1, 2, 3])\n",
    "\n",
    "v == s"
   ]
  },
  {
   "cell_type": "code",
   "execution_count": 15,
   "id": "9fb0b95a",
   "metadata": {},
   "outputs": [
    {
     "data": {
      "text/plain": [
       "np.True_"
      ]
     },
     "execution_count": 15,
     "metadata": {},
     "output_type": "execute_result"
    }
   ],
   "source": [
    "v = np.array([1, 2, 3])\n",
    "np.any(v>1)"
   ]
  },
  {
   "cell_type": "code",
   "execution_count": 18,
   "id": "61122c79",
   "metadata": {},
   "outputs": [
    {
     "data": {
      "text/plain": [
       "array([ True,  True,  True])"
      ]
     },
     "execution_count": 18,
     "metadata": {},
     "output_type": "execute_result"
    }
   ],
   "source": [
    "v1 = np.array([1, 2, 3])\n",
    "v2 = np.array([4, 5, 6])\n",
    "np.isclose(v1, v2,atol=3)\n"
   ]
  },
  {
   "cell_type": "code",
   "execution_count": 19,
   "id": "837f51aa",
   "metadata": {},
   "outputs": [
    {
     "name": "stdout",
     "output_type": "stream",
     "text": [
      "[10]\n"
     ]
    }
   ],
   "source": [
    "v = np.array([2,4,3,4,10])\n",
    "condition = v > 5\n",
    "cond_access = v[condition]\n",
    "print(cond_access)"
   ]
  },
  {
   "cell_type": "code",
   "execution_count": null,
   "id": "74087565",
   "metadata": {},
   "outputs": [],
   "source": []
  }
 ],
 "metadata": {
  "kernelspec": {
   "display_name": "env",
   "language": "python",
   "name": "python3"
  },
  "language_info": {
   "codemirror_mode": {
    "name": "ipython",
    "version": 3
   },
   "file_extension": ".py",
   "mimetype": "text/x-python",
   "name": "python",
   "nbconvert_exporter": "python",
   "pygments_lexer": "ipython3",
   "version": "3.12.9"
  }
 },
 "nbformat": 4,
 "nbformat_minor": 5
}
